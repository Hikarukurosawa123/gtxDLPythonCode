{
 "cells": [
  {
   "cell_type": "code",
   "execution_count": 1,
   "id": "f5c23c0c",
   "metadata": {},
   "outputs": [],
   "source": [
    "# Automatically reloads imported files: this is not done manually by ipynb; this magic command tells the compiler that each time we update an imported file we want to reload it\n",
    "%load_ext autoreload\n",
    "# Reload all modules before executing code\n",
    "%autoreload 2\n",
    "\n",
    "#change\n"
   ]
  },
  {
   "cell_type": "code",
   "execution_count": null,
   "id": "326f8dd9",
   "metadata": {},
   "outputs": [],
   "source": [
    "pip install pipreqs\n",
    "pipreqs main.py"
   ]
  },
  {
   "cell_type": "code",
   "execution_count": 3,
   "id": "8c334fed",
   "metadata": {},
   "outputs": [],
   "source": [
    "#Spip list | grep tensorflow\n",
    "import sys,os\n",
    "sys.path.append(os.getcwd())\n",
    "from main import DL\n"
   ]
  },
  {
   "cell_type": "code",
   "execution_count": 4,
   "id": "e4d457c6",
   "metadata": {
    "scrolled": false
   },
   "outputs": [],
   "source": [
    "test = DL()"
   ]
  },
  {
   "cell_type": "code",
   "execution_count": null,
   "id": "bb8662ad",
   "metadata": {},
   "outputs": [],
   "source": [
    "test.importData(isTesting = True)"
   ]
  },
  {
   "cell_type": "code",
   "execution_count": 5,
   "id": "d8a92dee",
   "metadata": {
    "scrolled": false
   },
   "outputs": [
    {
     "name": "stdout",
     "output_type": "stream",
     "text": [
      "TrainingData/1127_Mandolin_Tumours_5000_0_5_10_shift_tumour_1_15_scaled_rotated_shift_combined_withCSH_5000/Parameters.mat\n",
      "TrainingData/1127_Mandolin_Tumours_5000_0_5_10_shift_tumour_1_15_scaled_rotated_shift_combined_withCSH_5000/nImages10000.mat\n",
      "TrainingData/1209_Mandolin_Tumours_160_1_10_shift_1_15_for_training/Parameters.mat\n",
      "TrainingData/1209_Mandolin_Tumours_160_1_10_shift_1_15_for_training/nImages150.mat\n",
      "TrainingData/1216_CSH_10000_training_submarine_fHb_0_5_to_10_for_sampling_depth_testing/DL_nImages10000.mat\n",
      "TrainingData/1216_CSH_10000_training_submarine_fHb_0_5_to_10_for_sampling_depth_testing/Parameters.mat\n",
      "TrainingData/20240517_Elise_CSH_10000_Shallow_LargerWidth_largerFOV_low_res_R_only/DL_nImages10000.mat\n",
      "TrainingData/20240517_Elise_CSH_10000_Shallow_LargerWidth_largerFOV_low_res_R_only/Parameters.mat\n",
      "TrainingData/20240624_CSHsubmarine_TBR/Classify_nImages10000.mat\n",
      "TrainingData/20240624_CSHsubmarine_TBR/Classify_nImages210.mat\n",
      "TrainingData/20240624_CSHsubmarine_TBR/DL_nImages10000_noTumorDepth25.mat\n",
      "TrainingData/20240928_CSH/DL_nImages10000.mat\n",
      "TrainingData/20240929CSH/DL_nImages10000.mat\n",
      "TrainingData/20241002CSH_DL_0_10_n1000_fordebug/DL_nImages1000.mat\n",
      "TrainingData/20241002CSH_DL_0_10_n1000_fordebug/Parameters.mat\n",
      "TrainingData/20241003debug_10000_shape_code_shift/DL_Images00001.mat\n",
      "TrainingData/20241003debug_10000_shape_code_shift/DL_nImages10000.mat\n",
      "TrainingData/20241003debug_10000_shape_code_shift/Parameters.mat\n",
      "TrainingData/20241003debug_no_code_shift/DL_Images00001.mat\n",
      "TrainingData/20241003debug_no_code_shift/DL_nImages1000.mat\n",
      "TrainingData/20241003debug_no_code_shift/Parameters.mat\n",
      "TrainingData/20241003fordebug/DL_nImages1000.mat\n",
      "TrainingData/20241003fordebug/Parameters.mat\n",
      "TrainingData/20241031_Chromophoreonly/DL_nImages10000.mat\n",
      "TrainingData/20241107ice_and_sub_10000/nImages10000_new.mat\n",
      "TrainingData/20241115_10000_0_10_DTOP_CSH_0_5_2_0_and_solid_periphery_concentration/Parameters.mat\n",
      "TrainingData/20241115_10000_0_10_DTOP_CSH_0_5_2_0_and_solid_periphery_concentration/nImages10000_new.mat\n",
      "TrainingData/20241118_10000_training_withTBR_original/Parameters.mat\n",
      "TrainingData/20241118_10000_training_withTBR_original/nImages10000_new.mat\n",
      "TrainingData/2024_1010_training_fx_12_CSH_10000/0_1000/DL_nImages1000.mat\n",
      "TrainingData/2024_1010_training_fx_12_CSH_10000/1001_2000/DL_nImages1000.mat\n",
      "TrainingData/2024_1010_training_fx_12_CSH_10000/3/DL_nImages1000.mat\n",
      "TrainingData/2024_1010_training_fx_12_CSH_10000/4/DL_nImages1000.mat\n",
      "TrainingData/2024_1010_training_fx_12_CSH_10000/5/DL_nImages1000.mat\n",
      "TrainingData/2024_1010_training_fx_12_CSH_10000/6/DL_nImages1000.mat\n",
      "TrainingData/2024_1010_training_fx_12_CSH_10000/DL_nImages1000.mat\n",
      "TrainingData/2024_1010_training_fx_12_CSH_10000/Parameters.mat\n",
      "TrainingData/2024_1011_CSH_fx_12_10000/DL_nImages10000.mat\n",
      "TrainingData/2024_1031_CSH_10000_training_fx_0_0_015_0_03_0_045_0_075_0_15_0_2_0_25/DL_nImages10000.mat\n",
      "TrainingData/2024_1031_CSH_10000_training_fx_0_0_015_0_03_0_045_0_075_0_15_0_2_0_25/Parameters.mat\n",
      "TrainingData/2024_1108_sub_training_0_10mm_shift_1_20_mm_thickness_5_40_mm_width/nImages10000_new.mat\n",
      "TrainingData/2024_1112_periphery_concentration_CSH_10000/nImages10000_new.mat\n",
      "TrainingData/2024_1120_CSH_10000_testing_fx_0_0_01_0_02_0_04_0_08_0_2_periphery_0_5_to_solid/Parameters.mat\n",
      "TrainingData/2024_1120_CSH_10000_testing_fx_0_0_01_0_02_0_04_0_08_0_2_periphery_0_5_to_solid/nImages10000_new.mat\n",
      "TrainingData/2024_1120_CSH_10000_training_fx_0_0_01_0_02_0_04_0_08_0_2_solid/Parameters.mat\n",
      "TrainingData/2024_1120_CSH_10000_training_fx_0_0_01_0_02_0_04_0_08_0_2_solid/nImages10000_new.mat\n",
      "TrainingData/2024_1127_with_real_OP_map_solid_linear_fx/Parameters.mat\n",
      "TrainingData/2024_1127_with_real_OP_map_solid_linear_fx/nImages10000_new.mat\n",
      "TrainingData/2024_1203_CSH_10000_training_chromophore_only/Parameters.mat\n",
      "TrainingData/2024_1203_CSH_10000_training_chromophore_only/nImages10000.mat\n",
      "TrainingData/2024_1203_CSH_10000_training_concentration_0_01_15/Parameters.mat\n",
      "TrainingData/2024_1203_CSH_10000_training_concentration_0_01_15/nImages10000.mat\n",
      "TrainingData/2024_1204_10000_0_10_DTOP_CSH_fHb_0_5_to_5/Parameters.mat\n",
      "TrainingData/2024_1204_10000_0_10_DTOP_CSH_fHb_0_5_to_5/nImages10000.mat\n",
      "TrainingData/2024_1210_10000_CSH_training_shift_0_15_to_15/Parameters.mat\n",
      "TrainingData/2024_1210_10000_CSH_training_shift_0_15_to_15/nImages10000.mat\n",
      "TrainingData/2024_1217_fHB_0_5_to_60_submarine_training_CSH_10000/DL_nImages10000.mat\n",
      "TrainingData/2024_1217_fHB_0_5_to_60_submarine_training_CSH_10000/Parameters.mat\n",
      "TrainingData/20250108_0_5_to_solid_periphery_concentration/DL_nImages10000.mat\n",
      "TrainingData/20250114_2024_1031_CSH__submarine_10000_training_with_protrusions_0_3/DL_nImages10000.mat\n",
      "TrainingData/20250129_periphery_concentration_random_0_5_to_solid_fHb_0_5_to_100/DL_nImages10000.mat\n",
      "TrainingData/20250129_periphery_concentration_random_0_5_to_solid_fHb_0_5_to_100/Parameters.mat\n",
      "TrainingData/20250214_20240517_Elise_CSH_10000_Shallow_LargerWidth_MCX_1e7_100x100/DL_nImages10000.mat\n",
      "TrainingData/20250214_20240517_Elise_CSH_10000_Shallow_LargerWidth_MCX_1e7_100x100/Parameters.mat\n",
      "TrainingData/20250301_with_randomized_crop/DL_nImages10000.mat\n",
      "TrainingData/20250301_with_randomized_crop/Parameters.mat\n",
      "TrainingData/20250304_noise_dim_2D_TBR_2_20/DL_nImages10000.mat\n",
      "TrainingData/20250304_noise_dim_2D_TBR_2_20/Parameters.mat\n",
      "TrainingData/20250304_noise_dim_3D/DL_nImages10000.mat\n",
      "TrainingData/20250304_noise_dim_3D/Parameters.mat\n",
      "TrainingData/20250307_CSH_submarine_5_10_tumour_height_for_MCX_1900/DL_nImages1000.mat\n",
      "TrainingData/20250308_MCX_FL_fourierx/DL_nImages1000.mat\n",
      "TrainingData/20250402_CSH_submarine_2_15_rotate/DL_nImages10000.mat\n",
      "TrainingData/20250402_CSH_submarine_2_15_rotate/Parameters.mat\n",
      "TrainingData/20250407_5000_augmented_with_flip_for_DL_1_21/DL_nImages5000.mat\n",
      "TrainingData/20250407_5000_augmented_with_flip_for_DL_1_21/Parameters.mat\n",
      "TrainingData/20250407_5000_augmented_with_flip_for_DL_1_21_linear_fx/DL_nImages5000.mat\n",
      "TrainingData/20250407_5000_augmented_with_flip_for_DL_1_21_linear_fx/Parameters.mat\n",
      "TrainingData/20250408_no_noise_10000/DL_Images00001.mat\n",
      "TrainingData/20250408_no_noise_10000/DL_nImages10000.mat\n",
      "TrainingData/20250408_no_noise_10000/Parameters.mat\n",
      "TrainingData/2025_0114_CSH_10000_fHb_0_5_to_100/DL_nImages10000.mat\n",
      "TrainingData/DL_nImages1000.mat\n",
      "TrainingData/T1_staged_cancers_heihgt_1_to_5/DL_nImages5000.mat\n",
      "TrainingData/T1_staged_cancers_heihgt_1_to_5/Parameters.mat\n",
      "TrainingData/T1_staged_cancers_heihgt_5_01_to_10/DL_nImages5000.mat\n",
      "TrainingData/T1_staged_cancers_heihgt_5_01_to_10/Parameters.mat\n"
     ]
    },
    {
     "name": "stderr",
     "output_type": "stream",
     "text": [
      "c:\\Users\\Hikaru Kurosawa\\Documents\\GitHub\\gtxDLPythonCode\\DataImport.py:624: SyntaxWarning: invalid escape sequence '\\L'\n",
      "  loadFile = input('Enter the general and specific directory (e.g. meshLRTests\\\\\\LR2e-5) pertaining to the .h5 (weights) file you would like to load: ')\n"
     ]
    },
    {
     "ename": "ParamValidationError",
     "evalue": "Parameter validation failed:\nInvalid length for parameter Key, value: 0, valid min length: 1",
     "output_type": "error",
     "traceback": [
      "\u001b[1;31m---------------------------------------------------------------------------\u001b[0m",
      "\u001b[1;31mParamValidationError\u001b[0m                      Traceback (most recent call last)",
      "Cell \u001b[1;32mIn[5], line 1\u001b[0m\n\u001b[1;32m----> 1\u001b[0m \u001b[43mtest\u001b[49m\u001b[38;5;241;43m.\u001b[39;49m\u001b[43mTrain\u001b[49m\u001b[43m(\u001b[49m\u001b[43m)\u001b[49m\n",
      "File \u001b[1;32mc:\\Users\\Hikaru Kurosawa\\Documents\\GitHub\\gtxDLPythonCode\\DataImport.py:79\u001b[0m, in \u001b[0;36mOperations.Train\u001b[1;34m(self)\u001b[0m\n\u001b[0;32m     77\u001b[0m \u001b[38;5;28;01mdef\u001b[39;00m\u001b[38;5;250m \u001b[39m\u001b[38;5;21mTrain\u001b[39m(\u001b[38;5;28mself\u001b[39m):\n\u001b[0;32m     78\u001b[0m \u001b[38;5;250m        \u001b[39m\u001b[38;5;124;03m\"\"\"The Train method is designed to guide the user through the process of training a deep neural network; i.e., reading and scaling training data, modelling, fitting, plotting, etc.\"\"\"\u001b[39;00m\n\u001b[1;32m---> 79\u001b[0m         \u001b[38;5;28;43mself\u001b[39;49m\u001b[38;5;241;43m.\u001b[39;49m\u001b[43mimportData\u001b[49m\u001b[43m(\u001b[49m\u001b[43misTesting\u001b[49m\u001b[38;5;241;43m=\u001b[39;49m\u001b[38;5;28;43;01mFalse\u001b[39;49;00m\u001b[43m,\u001b[49m\u001b[43mquickTest\u001b[49m\u001b[38;5;241;43m=\u001b[39;49m\u001b[38;5;28;43;01mFalse\u001b[39;49;00m\u001b[43m)\u001b[49m\n\u001b[0;32m     80\u001b[0m         \u001b[38;5;28;01mwhile\u001b[39;00m \u001b[38;5;28;01mTrue\u001b[39;00m:\n\u001b[0;32m     81\u001b[0m             callParams \u001b[38;5;241m=\u001b[39m \u001b[38;5;28minput\u001b[39m(\u001b[38;5;124m'\u001b[39m\u001b[38;5;124mAdjust parameters before modelling and fitting? (Y/N) \u001b[39m\u001b[38;5;124m'\u001b[39m)\n",
      "File \u001b[1;32mc:\\Users\\Hikaru Kurosawa\\Documents\\GitHub\\gtxDLPythonCode\\DataImport.py:176\u001b[0m, in \u001b[0;36mOperations.importData\u001b[1;34m(self, isTesting, quickTest)\u001b[0m\n\u001b[0;32m    172\u001b[0m \u001b[38;5;28mself\u001b[39m\u001b[38;5;241m.\u001b[39mparams[\u001b[38;5;124m\"\u001b[39m\u001b[38;5;124mtraining_file_name\u001b[39m\u001b[38;5;124m\"\u001b[39m] \u001b[38;5;241m=\u001b[39m \u001b[38;5;28mself\u001b[39m\u001b[38;5;241m.\u001b[39mfile_key\n\u001b[0;32m    174\u001b[0m \u001b[38;5;66;03m#import data either in AWS cloud or in local desktop \u001b[39;00m\n\u001b[1;32m--> 176\u001b[0m obj \u001b[38;5;241m=\u001b[39m \u001b[43ms3_client\u001b[49m\u001b[38;5;241;43m.\u001b[39;49m\u001b[43mget_object\u001b[49m\u001b[43m(\u001b[49m\u001b[43mBucket\u001b[49m\u001b[38;5;241;43m=\u001b[39;49m\u001b[38;5;28;43mself\u001b[39;49m\u001b[38;5;241;43m.\u001b[39;49m\u001b[43mbucket\u001b[49m\u001b[43m,\u001b[49m\u001b[43m \u001b[49m\u001b[43mKey\u001b[49m\u001b[38;5;241;43m=\u001b[39;49m\u001b[38;5;28;43mself\u001b[39;49m\u001b[38;5;241;43m.\u001b[39;49m\u001b[43mfile_key\u001b[49m\u001b[43m)\u001b[49m\n\u001b[0;32m    178\u001b[0m dataTemp \u001b[38;5;241m=\u001b[39m obj[\u001b[38;5;124m'\u001b[39m\u001b[38;5;124mBody\u001b[39m\u001b[38;5;124m'\u001b[39m]\u001b[38;5;241m.\u001b[39mread()\n\u001b[0;32m    180\u001b[0m \u001b[38;5;28mself\u001b[39m\u001b[38;5;241m.\u001b[39mdataset \u001b[38;5;241m=\u001b[39m mat73\u001b[38;5;241m.\u001b[39mloadmat((io\u001b[38;5;241m.\u001b[39mBytesIO(dataTemp)))\n",
      "File \u001b[1;32mc:\\Users\\Hikaru Kurosawa\\Documents\\GitHub\\gtxDLPythonCode\\.venv\\Lib\\site-packages\\botocore\\client.py:569\u001b[0m, in \u001b[0;36mClientCreator._create_api_method.<locals>._api_call\u001b[1;34m(self, *args, **kwargs)\u001b[0m\n\u001b[0;32m    565\u001b[0m     \u001b[38;5;28;01mraise\u001b[39;00m \u001b[38;5;167;01mTypeError\u001b[39;00m(\n\u001b[0;32m    566\u001b[0m         \u001b[38;5;124mf\u001b[39m\u001b[38;5;124m\"\u001b[39m\u001b[38;5;132;01m{\u001b[39;00mpy_operation_name\u001b[38;5;132;01m}\u001b[39;00m\u001b[38;5;124m() only accepts keyword arguments.\u001b[39m\u001b[38;5;124m\"\u001b[39m\n\u001b[0;32m    567\u001b[0m     )\n\u001b[0;32m    568\u001b[0m \u001b[38;5;66;03m# The \"self\" in this scope is referring to the BaseClient.\u001b[39;00m\n\u001b[1;32m--> 569\u001b[0m \u001b[38;5;28;01mreturn\u001b[39;00m \u001b[38;5;28;43mself\u001b[39;49m\u001b[38;5;241;43m.\u001b[39;49m\u001b[43m_make_api_call\u001b[49m\u001b[43m(\u001b[49m\u001b[43moperation_name\u001b[49m\u001b[43m,\u001b[49m\u001b[43m \u001b[49m\u001b[43mkwargs\u001b[49m\u001b[43m)\u001b[49m\n",
      "File \u001b[1;32mc:\\Users\\Hikaru Kurosawa\\Documents\\GitHub\\gtxDLPythonCode\\.venv\\Lib\\site-packages\\botocore\\client.py:980\u001b[0m, in \u001b[0;36mBaseClient._make_api_call\u001b[1;34m(self, operation_name, api_params)\u001b[0m\n\u001b[0;32m    976\u001b[0m \u001b[38;5;28;01mif\u001b[39;00m properties:\n\u001b[0;32m    977\u001b[0m     \u001b[38;5;66;03m# Pass arbitrary endpoint info with the Request\u001b[39;00m\n\u001b[0;32m    978\u001b[0m     \u001b[38;5;66;03m# for use during construction.\u001b[39;00m\n\u001b[0;32m    979\u001b[0m     request_context[\u001b[38;5;124m'\u001b[39m\u001b[38;5;124mendpoint_properties\u001b[39m\u001b[38;5;124m'\u001b[39m] \u001b[38;5;241m=\u001b[39m properties\n\u001b[1;32m--> 980\u001b[0m request_dict \u001b[38;5;241m=\u001b[39m \u001b[38;5;28;43mself\u001b[39;49m\u001b[38;5;241;43m.\u001b[39;49m\u001b[43m_convert_to_request_dict\u001b[49m\u001b[43m(\u001b[49m\n\u001b[0;32m    981\u001b[0m \u001b[43m    \u001b[49m\u001b[43mapi_params\u001b[49m\u001b[38;5;241;43m=\u001b[39;49m\u001b[43mapi_params\u001b[49m\u001b[43m,\u001b[49m\n\u001b[0;32m    982\u001b[0m \u001b[43m    \u001b[49m\u001b[43moperation_model\u001b[49m\u001b[38;5;241;43m=\u001b[39;49m\u001b[43moperation_model\u001b[49m\u001b[43m,\u001b[49m\n\u001b[0;32m    983\u001b[0m \u001b[43m    \u001b[49m\u001b[43mendpoint_url\u001b[49m\u001b[38;5;241;43m=\u001b[39;49m\u001b[43mendpoint_url\u001b[49m\u001b[43m,\u001b[49m\n\u001b[0;32m    984\u001b[0m \u001b[43m    \u001b[49m\u001b[43mcontext\u001b[49m\u001b[38;5;241;43m=\u001b[39;49m\u001b[43mrequest_context\u001b[49m\u001b[43m,\u001b[49m\n\u001b[0;32m    985\u001b[0m \u001b[43m    \u001b[49m\u001b[43mheaders\u001b[49m\u001b[38;5;241;43m=\u001b[39;49m\u001b[43madditional_headers\u001b[49m\u001b[43m,\u001b[49m\n\u001b[0;32m    986\u001b[0m \u001b[43m\u001b[49m\u001b[43m)\u001b[49m\n\u001b[0;32m    987\u001b[0m resolve_checksum_context(request_dict, operation_model, api_params)\n\u001b[0;32m    989\u001b[0m service_id \u001b[38;5;241m=\u001b[39m \u001b[38;5;28mself\u001b[39m\u001b[38;5;241m.\u001b[39m_service_model\u001b[38;5;241m.\u001b[39mservice_id\u001b[38;5;241m.\u001b[39mhyphenize()\n",
      "File \u001b[1;32mc:\\Users\\Hikaru Kurosawa\\Documents\\GitHub\\gtxDLPythonCode\\.venv\\Lib\\site-packages\\botocore\\client.py:1047\u001b[0m, in \u001b[0;36mBaseClient._convert_to_request_dict\u001b[1;34m(self, api_params, operation_model, endpoint_url, context, headers, set_user_agent_header)\u001b[0m\n\u001b[0;32m   1038\u001b[0m \u001b[38;5;28;01mdef\u001b[39;00m\u001b[38;5;250m \u001b[39m\u001b[38;5;21m_convert_to_request_dict\u001b[39m(\n\u001b[0;32m   1039\u001b[0m     \u001b[38;5;28mself\u001b[39m,\n\u001b[0;32m   1040\u001b[0m     api_params,\n\u001b[1;32m   (...)\u001b[0m\n\u001b[0;32m   1045\u001b[0m     set_user_agent_header\u001b[38;5;241m=\u001b[39m\u001b[38;5;28;01mTrue\u001b[39;00m,\n\u001b[0;32m   1046\u001b[0m ):\n\u001b[1;32m-> 1047\u001b[0m     request_dict \u001b[38;5;241m=\u001b[39m \u001b[38;5;28;43mself\u001b[39;49m\u001b[38;5;241;43m.\u001b[39;49m\u001b[43m_serializer\u001b[49m\u001b[38;5;241;43m.\u001b[39;49m\u001b[43mserialize_to_request\u001b[49m\u001b[43m(\u001b[49m\n\u001b[0;32m   1048\u001b[0m \u001b[43m        \u001b[49m\u001b[43mapi_params\u001b[49m\u001b[43m,\u001b[49m\u001b[43m \u001b[49m\u001b[43moperation_model\u001b[49m\n\u001b[0;32m   1049\u001b[0m \u001b[43m    \u001b[49m\u001b[43m)\u001b[49m\n\u001b[0;32m   1050\u001b[0m     \u001b[38;5;28;01mif\u001b[39;00m \u001b[38;5;129;01mnot\u001b[39;00m \u001b[38;5;28mself\u001b[39m\u001b[38;5;241m.\u001b[39m_client_config\u001b[38;5;241m.\u001b[39minject_host_prefix:\n\u001b[0;32m   1051\u001b[0m         request_dict\u001b[38;5;241m.\u001b[39mpop(\u001b[38;5;124m'\u001b[39m\u001b[38;5;124mhost_prefix\u001b[39m\u001b[38;5;124m'\u001b[39m, \u001b[38;5;28;01mNone\u001b[39;00m)\n",
      "File \u001b[1;32mc:\\Users\\Hikaru Kurosawa\\Documents\\GitHub\\gtxDLPythonCode\\.venv\\Lib\\site-packages\\botocore\\validate.py:381\u001b[0m, in \u001b[0;36mParamValidationDecorator.serialize_to_request\u001b[1;34m(self, parameters, operation_model)\u001b[0m\n\u001b[0;32m    377\u001b[0m     report \u001b[38;5;241m=\u001b[39m \u001b[38;5;28mself\u001b[39m\u001b[38;5;241m.\u001b[39m_param_validator\u001b[38;5;241m.\u001b[39mvalidate(\n\u001b[0;32m    378\u001b[0m         parameters, operation_model\u001b[38;5;241m.\u001b[39minput_shape\n\u001b[0;32m    379\u001b[0m     )\n\u001b[0;32m    380\u001b[0m     \u001b[38;5;28;01mif\u001b[39;00m report\u001b[38;5;241m.\u001b[39mhas_errors():\n\u001b[1;32m--> 381\u001b[0m         \u001b[38;5;28;01mraise\u001b[39;00m ParamValidationError(report\u001b[38;5;241m=\u001b[39mreport\u001b[38;5;241m.\u001b[39mgenerate_report())\n\u001b[0;32m    382\u001b[0m \u001b[38;5;28;01mreturn\u001b[39;00m \u001b[38;5;28mself\u001b[39m\u001b[38;5;241m.\u001b[39m_serializer\u001b[38;5;241m.\u001b[39mserialize_to_request(\n\u001b[0;32m    383\u001b[0m     parameters, operation_model\n\u001b[0;32m    384\u001b[0m )\n",
      "\u001b[1;31mParamValidationError\u001b[0m: Parameter validation failed:\nInvalid length for parameter Key, value: 0, valid min length: 1"
     ]
    }
   ],
   "source": [
    "test.Train()\n"
   ]
  },
  {
   "cell_type": "code",
   "execution_count": null,
   "id": "afc42f1d",
   "metadata": {},
   "outputs": [],
   "source": []
  },
  {
   "cell_type": "markdown",
   "id": "d5220121",
   "metadata": {},
   "source": []
  },
  {
   "cell_type": "code",
   "execution_count": null,
   "id": "9516e30b",
   "metadata": {},
   "outputs": [],
   "source": [
    "test.upload_to_S3()"
   ]
  },
  {
   "cell_type": "code",
   "execution_count": null,
   "id": "253a2941",
   "metadata": {
    "scrolled": false
   },
   "outputs": [],
   "source": [
    "test.load()\n"
   ]
  },
  {
   "cell_type": "code",
   "execution_count": null,
   "id": "06534927",
   "metadata": {},
   "outputs": [],
   "source": [
    "test.modelD.summary()"
   ]
  },
  {
   "cell_type": "code",
   "execution_count": null,
   "id": "634f45bb",
   "metadata": {},
   "outputs": [],
   "source": [
    "import numpy as np\n",
    "import matplotlib.pyplot as plt\n",
    "\n",
    "fig, axes = plt.subplots(1, 6, figsize=(18, 3))  # Create a 1x6 grid of subplots with a specific size\n",
    "\n",
    "for i in range(6):\n",
    "    ax = axes[i]  # Access each axis\n",
    "    img_data = np.squeeze(test.FL[0, :, :, i, 0])\n",
    "    img = ax.imshow(img_data,vmin=np.min(img_data), vmax=np.max(img_data), cmap='jet')  # Display the image\n",
    "    ax.axis('off')  # Turn off both axes and ticks\n",
    "\n",
    "    cbar = fig.colorbar(img, ax=ax, shrink=0.8)  # Shrink the colorbar to 80% of its size\n",
    "\n",
    "plt.show()"
   ]
  },
  {
   "cell_type": "code",
   "execution_count": null,
   "id": "571570f4",
   "metadata": {},
   "outputs": [],
   "source": [
    "test.Analysis()"
   ]
  },
  {
   "cell_type": "code",
   "execution_count": null,
   "id": "a50993f4",
   "metadata": {},
   "outputs": [],
   "source": [
    "print(test.DF_min)"
   ]
  },
  {
   "cell_type": "code",
   "execution_count": null,
   "id": "cbaff132",
   "metadata": {},
   "outputs": [],
   "source": [
    "import numpy as np\n",
    "import matplotlib.pyplot as plt\n",
    "\n",
    "fig, axes = plt.subplots(1, 6, figsize=(18, 3))  # Create a 1x6 grid of subplots with a specific size\n",
    "\n",
    "for i in range(6):\n",
    "    ax = axes[i]  # Access each axis\n",
    "    img_data = np.squeeze(test.RE[0, :, :, i, 0])\n",
    "    img = ax.imshow(img_data,vmin=np.min(img_data), vmax=np.max(img_data), cmap='jet')  # Display the image\n",
    "    ax.axis('off')  # Turn off both axes and ticks\n",
    "\n",
    "    cbar = fig.colorbar(img, ax=ax, shrink=0.8)  # Shrink the colorbar to 80% of its size\n",
    "\n",
    "plt.show()"
   ]
  },
  {
   "cell_type": "code",
   "execution_count": null,
   "id": "dcac91c3",
   "metadata": {},
   "outputs": [],
   "source": [
    "import numpy as np\n",
    "import matplotlib.pyplot as plt\n",
    "\n",
    "fig, axes = plt.subplots(1, 2, figsize=(18, 3))  # Create a 1x6 grid of subplots with a specific size\n",
    "\n",
    "for i in range(2):\n",
    "    ax = axes[i]  # Access each axis\n",
    "    img_data = np.squeeze(test.OP[0, :, :, i])\n",
    "    img = ax.imshow(img_data,vmin=np.min(img_data), vmax=np.max(img_data), cmap='jet')  # Display the image\n",
    "    ax.axis('off')  # Turn off both axes and ticks\n",
    "\n",
    "    cbar = fig.colorbar(img, ax=ax, shrink=0.8)  # Shrink the colorbar to 80% of its size\n",
    "\n",
    "plt.show()"
   ]
  },
  {
   "cell_type": "code",
   "execution_count": null,
   "id": "b1960d2d",
   "metadata": {},
   "outputs": [],
   "source": [
    "#visualization of the filters and feature maps \n",
    "conv_layers = []\n",
    "for layer in test.modelD.layers:\n",
    "    \n",
    "    if 'conv' not in layer.name:\n",
    "        continue    \n",
    "\n",
    "    conv_layers.append(layer)\n",
    "    filters , bias = layer.get_weights()\n",
    "    print(layer.name , filters.shape)"
   ]
  },
  {
   "cell_type": "code",
   "execution_count": null,
   "id": "21912985",
   "metadata": {},
   "outputs": [],
   "source": [
    "# retrieve weights from the second hidden layer\n",
    "\n",
    "filters, bias = conv_layers[0].get_weights()\n",
    "\n",
    "# normalize filter values to 0-1 so we can visualize them\n",
    "f_min, f_max = filters.min(), filters.max()\n",
    "filters = (filters - f_min) / (f_max - f_min)"
   ]
  },
  {
   "cell_type": "code",
   "execution_count": null,
   "id": "14321594",
   "metadata": {},
   "outputs": [],
   "source": [
    "from matplotlib import pyplot\n",
    "n_filters =6\n",
    "ix=1\n",
    "fig = pyplot.figure(figsize=(20,15))\n",
    "for i in range(n_filters):\n",
    "    # get the filters\n",
    "    f = filters[:,:,:,0,i]\n",
    "    for j in range(3):\n",
    "        # subplot for 6 filters and 3 channels\n",
    "        pyplot.subplot(n_filters,3,ix)\n",
    "        pyplot.imshow(f[:,:,j] ,cmap='gray')\n",
    "        ix+=1\n",
    "#plot the filters \n",
    "pyplot.show()"
   ]
  },
  {
   "cell_type": "code",
   "execution_count": null,
   "id": "26ba5de3",
   "metadata": {},
   "outputs": [],
   "source": [
    "#list out convolutional layer indexes \n",
    "for i in range(len(test.modelD.layers)):\n",
    "    layer = test.modelD.layers[i]\n",
    "    if 'conv' not in layer.name:\n",
    "        continue    \n",
    "    print(i , layer.name , layer.output.shape)"
   ]
  },
  {
   "cell_type": "code",
   "execution_count": null,
   "id": "b6f92280",
   "metadata": {},
   "outputs": [],
   "source": [
    "#define the model \n",
    "test.visualize_feature_maps(65)"
   ]
  },
  {
   "cell_type": "code",
   "execution_count": null,
   "id": "6f657151",
   "metadata": {},
   "outputs": [],
   "source": [
    "#plot original image\n",
    "import numpy as np\n",
    "import matplotlib.pyplot as plt\n",
    "\n",
    "fig, axes = plt.subplots(1, 6, figsize=(18, 3))  # Create a 1x6 grid of subplots with a specific size\n",
    "\n",
    "for i in range(6):\n",
    "    ax = axes[i]  # Access each axis\n",
    "    img_data = np.squeeze(test.FL[0, :, :, i])\n",
    "    img = ax.imshow(img_data,vmin=np.min(img_data), vmax=np.max(img_data), cmap='jet')  # Display the image\n",
    "    ax.axis('off')  # Turn off both axes and ticks\n",
    "\n",
    "    cbar = fig.colorbar(img, ax=ax, shrink=0.8)  # Shrink the colorbar to 80% of its size\n",
    "\n",
    "plt.show()"
   ]
  },
  {
   "cell_type": "code",
   "execution_count": null,
   "id": "4215353a",
   "metadata": {},
   "outputs": [],
   "source": [
    "#calculating features_map\n",
    "from matplotlib import pyplot\n",
    "features = test.modelD_visualize.predict([test.OP, test.FL], batch_size = 1)\n",
    "print(features.shape)\n",
    "\n",
    "\n",
    "\n",
    "fig = pyplot.figure(figsize=(20, 15))\n",
    "for x in range(1):\n",
    "    #define new figure\n",
    "    fig, ax = plt.subplots(8, 8)\n",
    "    for i in range(1,features.shape[-1]+1):\n",
    "        #plt.subplot(8, 8,i)\n",
    "        ax[(i-1)//8, (i-1)%8].imshow(features[0,:,:,i-1] , cmap='gray')\n",
    "        ax[(i-1)//8, (i-1)%8].axis('off')\n",
    "    \n",
    "pyplot.show()"
   ]
  },
  {
   "cell_type": "code",
   "execution_count": null,
   "id": "8fd86325",
   "metadata": {},
   "outputs": [],
   "source": [
    "#load phantom data with different depths, check intensity values at each spatial frequency \n",
    "test.import_data_for_testing()\n"
   ]
  },
  {
   "cell_type": "code",
   "execution_count": null,
   "id": "06f70fa4",
   "metadata": {},
   "outputs": [],
   "source": [
    "print(test.FL.shape)"
   ]
  },
  {
   "cell_type": "code",
   "execution_count": null,
   "id": "a61468bb",
   "metadata": {},
   "outputs": [],
   "source": [
    "fx = [0, 0.05, 0.1, 0.15, 0.2, 0.25]\n",
    "for i in range(test.FL.shape[0]):\n",
    "    #for x in range(test.FL.shape[-1]):\n",
    "    plt.plot(fx, np.max(test.FL[i], axis = (0,1)))\n",
    "    plt.ylabel('Max Fluorescence Intensity')\n",
    "    plt.xlabel('Fx')\n",
    "    plt.title('Tumour 4 Max Intensity')\n"
   ]
  },
  {
   "cell_type": "code",
   "execution_count": null,
   "id": "88d99e7a",
   "metadata": {},
   "outputs": [],
   "source": [
    "#analyze only the middle portion \n",
    "for i in range(test.FL.shape[0]):\n",
    "    #for x in range(test.FL.shape[-1]):\n",
    "    plt.plot(fx, np.mean(test.FL[i,40:60,40:60], axis = (0,1)))\n",
    "    plt.ylabel('Mean Fluorescence Intensity')\n",
    "    plt.xlabel('Fx')\n",
    "    plt.title('Tumour 4 Mean Intensity')"
   ]
  },
  {
   "cell_type": "code",
   "execution_count": null,
   "id": "dc7ae866",
   "metadata": {},
   "outputs": [],
   "source": [
    "#analyze only the middle pixel \n",
    "for i in range(test.FL.shape[0]):\n",
    "    #for x in range(test.FL.shape[-1]):\n",
    "    plt.plot(fx, test.FL[i,50,50])\n",
    "    plt.ylabel('Pixel Wise Intensity')\n",
    "    plt.xlabel('Fx')\n",
    "    plt.title('Pixel Wise Intensity')"
   ]
  },
  {
   "cell_type": "code",
   "execution_count": null,
   "id": "6bac66cb",
   "metadata": {},
   "outputs": [],
   "source": [
    "#obtain the slope \n",
    "x_vec = np.linspace(1,5, 5)\n",
    "print(x)\n",
    "#for i in range(test.FL.shape[0]-1):\n",
    "for x in range(test.FL.shape[0]):\n",
    "    slope = [test.FL[x,50,50,i] - test.FL[x,50,50, i+1] for i in range(test.FL.shape[-1]-1)]\n",
    "    print(slope)\n",
    "    #for x in range(test.FL.shape[-1]):\n",
    "    plt.plot(x_vec, slope)\n",
    "    plt.ylabel('Pixel Wise Derivative')\n",
    "    plt.xlabel('Fx')\n",
    "    plt.title('Pixel Wise Derivative')"
   ]
  },
  {
   "cell_type": "code",
   "execution_count": null,
   "id": "88f90798",
   "metadata": {},
   "outputs": [],
   "source": [
    "#obtain the slope \n",
    "x_vec = np.linspace(1,5, 5)\n",
    "for i in range(test.FL.shape[-1]-1):\n",
    "    for x in range(test.FL.shape[0]):\n",
    "        slope = test.FL[x,50,50,i] - test.FL[x,50,50, i+1]#test.FL[x,50,50,0] - test.FL[x,50,50, 1]\n",
    "        depth = test.DF[x,50,50]\n",
    "        #for x in range(test.FL.shape[-1]):\n",
    "        plt.scatter(depth, slope, s=4, c = 'b')\n",
    "        plt.ylabel('Pixel Wise fluorescence derivative')\n",
    "        plt.xlabel('Depth')\n",
    "\n",
    "    plt.show()\n"
   ]
  },
  {
   "cell_type": "code",
   "execution_count": null,
   "id": "15c199c7",
   "metadata": {},
   "outputs": [],
   "source": []
  }
 ],
 "metadata": {
  "kernelspec": {
   "display_name": ".venv",
   "language": "python",
   "name": "python3"
  },
  "language_info": {
   "codemirror_mode": {
    "name": "ipython",
    "version": 3
   },
   "file_extension": ".py",
   "mimetype": "text/x-python",
   "name": "python",
   "nbconvert_exporter": "python",
   "pygments_lexer": "ipython3",
   "version": "3.12.9"
  }
 },
 "nbformat": 4,
 "nbformat_minor": 5
}
